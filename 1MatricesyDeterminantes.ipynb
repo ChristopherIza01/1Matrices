{
  "nbformat": 4,
  "nbformat_minor": 0,
  "metadata": {
    "colab": {
      "provenance": [],
      "authorship_tag": "ABX9TyNG0Jw/Xk2v8CRdSHbBMOZR",
      "include_colab_link": true
    },
    "kernelspec": {
      "name": "python3",
      "display_name": "Python 3"
    },
    "language_info": {
      "name": "python"
    }
  },
  "cells": [
    {
      "cell_type": "markdown",
      "metadata": {
        "id": "view-in-github",
        "colab_type": "text"
      },
      "source": [
        "<a href=\"https://colab.research.google.com/github/ChristopherIza01/1Matrices/blob/main/1MatricesyDeterminantes.ipynb\" target=\"_parent\"><img src=\"https://colab.research.google.com/assets/colab-badge.svg\" alt=\"Open In Colab\"/></a>"
      ]
    },
    {
      "cell_type": "markdown",
      "source": [
        "CUADERNO DE ÁLGEBRA LINEAL \n",
        "Christopher Joel Iza Amaguaya"
      ],
      "metadata": {
        "id": "SD1gtHTxqBUV"
      }
    },
    {
      "cell_type": "markdown",
      "source": [
        "MATRICES Y DETERMINANTES\n"
      ],
      "metadata": {
        "id": "hMmU0GOaqxU0"
      }
    },
    {
      "cell_type": "markdown",
      "source": [
        "CLASES Y OPERACIONES ENTRE MATRICES"
      ],
      "metadata": {
        "id": "oFv_tniKrxCU"
      }
    },
    {
      "cell_type": "markdown",
      "source": [
        "1. Matriz nula: Todos los elementos son cero. Ejemplo: \n",
        "\n",
        "   0 0 0\n",
        "   0 0 0\n",
        "\n",
        "2. Matriz identidad: Diagonal principal de unos, resto de ceros. Ejemplo: \n",
        "\n",
        "   1 0 0\n",
        "   0 1 0\n",
        "   0 0 1\n",
        "\n",
        "3. Matriz simétrica: Matriz igual a su transpuesta. Ejemplo: \n",
        "\n",
        "   2 3 4\n",
        "   3 5 6\n",
        "   4 6 7\n",
        "\n",
        "4. Matriz antisimétrica: Matriz transpuesta con elementos cambiados de signo. Ejemplo: \n",
        "\n",
        "   0 -2 -5\n",
        "   2  0 -3\n",
        "   5  3  0\n",
        "\n"
      ],
      "metadata": {
        "id": "nEbETmqGtEuI"
      }
    },
    {
      "cell_type": "markdown",
      "source": [
        "OPERACIONES ENTRE MATRICES"
      ],
      "metadata": {
        "id": "bboIfuqzu2oR"
      }
    },
    {
      "cell_type": "markdown",
      "source": [
        "SUMA DE MATRICES\n",
        "\n",
        "La suma de matrices consiste en sumar los elementos correspondientes de dos matrices del mismo tamaño. Por ejemplo, si tenemos las matrices:\n",
        "\n",
        "Matriz A:\n",
        "1 2\n",
        "3 4\n",
        "\n",
        "Matriz B:\n",
        "5 6\n",
        "7 8\n",
        "\n",
        "La suma de estas matrices sería:\n",
        "\n",
        "Resultado:\n",
        "6 8\n",
        "10 12\n",
        "\n",
        "Cada elemento en el resultado se obtiene sumando los elementos correspondientes de las matrices originales. Es importante destacar que las matrices deben tener la misma dimensión para realizar la suma."
      ],
      "metadata": {
        "id": "UqZLoNCOu6AB"
      }
    },
    {
      "cell_type": "code",
      "source": [
        "# Definir las matrices A y B\n",
        "matriz_A = [[1, 2],\n",
        "            [3, 4]]\n",
        "\n",
        "matriz_B = [[5, 6],\n",
        "            [7, 8]]\n",
        "\n",
        "# Obtener las dimensiones de las matrices\n",
        "filas = len(matriz_A)\n",
        "columnas = len(matriz_A[0])\n",
        "\n",
        "# Crear una matriz vacía para almacenar el resultado\n",
        "resultado = [[0 for _ in range(columnas)] for _ in range(filas)]\n",
        "\n",
        "# Realizar la suma de matrices\n",
        "for i in range(filas):\n",
        "    for j in range(columnas):\n",
        "        resultado[i][j] = matriz_A[i][j] + matriz_B[i][j]\n",
        "\n",
        "# Imprimir el resultado\n",
        "print(\"Resultado:\")\n",
        "for fila in resultado:\n",
        "    print(fila)\n"
      ],
      "metadata": {
        "colab": {
          "base_uri": "https://localhost:8080/"
        },
        "id": "6QtlyGCLfJft",
        "outputId": "b9c2a37a-2e46-4803-dfff-c60a1c7a5ab9"
      },
      "execution_count": null,
      "outputs": [
        {
          "output_type": "stream",
          "name": "stdout",
          "text": [
            "Resultado:\n",
            "[6, 8]\n",
            "[10, 12]\n"
          ]
        }
      ]
    },
    {
      "cell_type": "markdown",
      "source": [
        "PRODUCTO DE UNA MATRIZ POR UN ESCALAR\n",
        "El producto de una matriz por un escalar consiste en multiplicar cada elemento de la matriz por ese escalar. Esto implica multiplicar cada entrada de la matriz por el número dado, resultando en una matriz donde cada elemento es el resultado de dicha multiplicación.\n",
        "\n",
        "Ejemplo:\n",
        "Dada la matriz:\n",
        "2  4\n",
        "1  3\n",
        "\n",
        "Si multiplicamos esta matriz por el escalar 3, obtenemos:\n",
        "3 * 2   3 * 4\n",
        "3 * 1   3 * 3\n",
        "\n",
        "Resultado:\n",
        "6  12\n",
        "3  9\n",
        "\n"
      ],
      "metadata": {
        "id": "pdX8xzRNf1Gz"
      }
    },
    {
      "cell_type": "code",
      "source": [
        "# Definir la matriz\n",
        "matriz = [[2, 4],\n",
        "          [1, 3]]\n",
        "\n",
        "# Definir el escalar\n",
        "escalar = 3\n",
        "\n",
        "# Obtener las dimensiones de la matriz\n",
        "filas = len(matriz)\n",
        "columnas = len(matriz[0])\n",
        "\n",
        "# Crear una matriz vacía para almacenar el resultado\n",
        "resultado = [[0 for _ in range(columnas)] for _ in range(filas)]\n",
        "\n",
        "# Realizar el producto de la matriz por el escalar\n",
        "for i in range(filas):\n",
        "    for j in range(columnas):\n",
        "        resultado[i][j] = matriz[i][j] * escalar\n",
        "\n",
        "# Imprimir el resultado\n",
        "print(\"Resultado:\")\n",
        "for fila in resultado:\n",
        "    print(fila)\n"
      ],
      "metadata": {
        "colab": {
          "base_uri": "https://localhost:8080/"
        },
        "id": "DugBz5iHga0p",
        "outputId": "b3a7be37-1695-4b1e-c1f2-de3a7cd3bdc3"
      },
      "execution_count": null,
      "outputs": [
        {
          "output_type": "stream",
          "name": "stdout",
          "text": [
            "Resultado:\n",
            "[6, 12]\n",
            "[3, 9]\n"
          ]
        }
      ]
    },
    {
      "cell_type": "markdown",
      "source": [
        "PRODUCTO DE MATRICES\n",
        " Consiste en multiplicar cada elemento de una fila de la primera matriz por cada elemento de una columna correspondiente de la segunda matriz, y luego sumar los productos resultantes. \n",
        "\n",
        "Ejemplo:\n",
        "Dadas las matrices:\n",
        "Matriz A:\n",
        "1  2\n",
        "3  4\n",
        "\n",
        "Matriz B:\n",
        "5  6\n",
        "7  8\n",
        "\n",
        "Para realizar el producto de estas matrices, se multiplica el elemento en la posición (1,1) de la matriz A (que es 1) por el elemento en la posición (1,1) de la matriz B (que es 5), y luego se multiplica el elemento en la posición (1,2) de la matriz A (que es 2) por el elemento en la posición (2,1) de la matriz B (que es 7). Luego, se suman estos productos:\n",
        "\n",
        "1 * 5 + 2 * 7 = 19\n",
        "\n",
        "Esto se repite para obtener los demás elementos de la matriz resultante:\n",
        "\n",
        "1 * 6 + 2 * 8 = 22\n",
        "3 * 5 + 4 * 7 = 43\n",
        "3 * 6 + 4 * 8 = 50\n",
        "\n",
        "Resultado:\n",
        "19  22\n",
        "43  50\n",
        "\n"
      ],
      "metadata": {
        "id": "w33k7CtsgoRd"
      }
    },
    {
      "cell_type": "code",
      "source": [
        "# Definir las matrices A y B\n",
        "matriz_A = [[1, 2],\n",
        "            [3, 4]]\n",
        "\n",
        "matriz_B = [[5, 6],\n",
        "            [7, 8]]\n",
        "\n",
        "# Obtener las dimensiones de las matrices\n",
        "filas_A = len(matriz_A)\n",
        "columnas_A = len(matriz_A[0])\n",
        "filas_B = len(matriz_B)\n",
        "columnas_B = len(matriz_B[0])\n",
        "\n",
        "# Verificar si las matrices pueden multiplicarse\n",
        "if columnas_A != filas_B:\n",
        "    print(\"Error: Las dimensiones de las matrices no permiten la multiplicación.\")\n",
        "else:\n",
        "    # Crear una matriz vacía para almacenar el resultado\n",
        "    resultado = [[0 for _ in range(columnas_B)] for _ in range(filas_A)]\n",
        "\n",
        "    # Realizar el producto de matrices\n",
        "    for i in range(filas_A):\n",
        "        for j in range(columnas_B):\n",
        "            for k in range(columnas_A):\n",
        "                resultado[i][j] += matriz_A[i][k] * matriz_B[k][j]\n",
        "\n",
        "    # Imprimir el resultado\n",
        "    print(\"Resultado:\")\n",
        "    for fila in resultado:\n",
        "        print(fila)\n"
      ],
      "metadata": {
        "colab": {
          "base_uri": "https://localhost:8080/"
        },
        "id": "iFPYQ3xzhP0b",
        "outputId": "c9522662-10f4-4eb1-a4f9-84bc31ff434b"
      },
      "execution_count": null,
      "outputs": [
        {
          "output_type": "stream",
          "name": "stdout",
          "text": [
            "Resultado:\n",
            "[19, 22]\n",
            "[43, 50]\n"
          ]
        }
      ]
    },
    {
      "cell_type": "markdown",
      "source": [
        "MATRIZ INVERSA\n",
        " La inversa de una matriz se denota como A^(-1).\n",
        "\n",
        "Ejemplo:\n",
        "Dada la matriz A:\n",
        "2  1\n",
        "1  3\n",
        "\n",
        "Si encontramos su matriz inversa, A^(-1), y la multiplicamos por la matriz original A, obtendremos la matriz identidad I:\n",
        "\n",
        "A * A^(-1) = I\n",
        "\n",
        "Si calculamos la matriz inversa de A, obtenemos:\n",
        "\n",
        "A^(-1) = (1/5) * [3  -1]\n",
        "                   [-1  2]\n",
        "\n",
        "Entonces, si multiplicamos A por su matriz inversa, deberíamos obtener la matriz identidad:\n",
        "\n",
        "A * A^(-1) = [2  1] * (1/5) * [3  -1] = [1  0]\n",
        "             [1  3]             [-1  2]     [0  1]\n",
        "\n",
        "Como resultado, obtenemos la matriz identidad I\n",
        "\n"
      ],
      "metadata": {
        "id": "-PPRci3Xhqo8"
      }
    },
    {
      "cell_type": "code",
      "source": [
        "import numpy as np\n",
        "\n",
        "# Definir la matriz A\n",
        "matriz_A = np.array([[2, 1],\n",
        "                     [1, 3]])\n",
        "\n",
        "# Calcular la matriz inversa\n",
        "matriz_inversa = np.linalg.inv(matriz_A)\n",
        "\n",
        "# Imprimir la matriz inversa\n",
        "print(\"Matriz inversa:\")\n",
        "print(matriz_inversa)\n"
      ],
      "metadata": {
        "colab": {
          "base_uri": "https://localhost:8080/"
        },
        "id": "79Z3a37aiBfI",
        "outputId": "0046188c-f016-460d-d242-8ecf1f12ae74"
      },
      "execution_count": null,
      "outputs": [
        {
          "output_type": "stream",
          "name": "stdout",
          "text": [
            "Matriz inversa:\n",
            "[[ 0.6 -0.2]\n",
            " [-0.2  0.4]]\n"
          ]
        }
      ]
    },
    {
      "cell_type": "markdown",
      "source": [
        "MATRIZ IDEMPOTENTE\n",
        "Una matriz idempotente es aquella matriz cuadrada que, cuando se multiplica por sí misma, produce la misma matriz.\n",
        "Ejemplo:\n",
        "Matriz A:\n",
        "1  0\n",
        "0  1\n",
        "\n",
        "Si multiplicamos esta matriz por sí misma, obtenemos:\n",
        "A * A = [[1, 0], [0, 1]] * [[1, 0], [0, 1]] = [[1, 0], [0, 1]]\n",
        "\n",
        "El resultado es la misma matriz A, lo cual cumple con la propiedad de idempotencia.\n",
        "\n",
        "MATRIZ ORTOGONAL:\n",
        "Una matriz ortogonal es aquella matriz cuadrada cuya matriz traspuesta es igual a su matriz inversa. .\n",
        "\n",
        "Ejemplo:\n",
        "Matriz B:\n",
        "0.6  -0.8\n",
        "0.8   0.6\n",
        "\n",
        "Si calculamos la matriz traspuesta de B y la multiplicamos por B, deberíamos obtener la matriz identidad:\n",
        "\n",
        "B^T * B = [[0.6, 0.8], [-0.8, 0.6]] * [[0.6, -0.8], [0.8, 0.6]] = [[1, 0], [0, 1]]\n",
        "\n",
        "El resultado es la matriz identidad, lo cual cumple con la propiedad de ortogonalidad.\n",
        "\n",
        "MATRIZ ORTONORMAL:\n",
        "Una matriz ortonormal es una matriz cuadrada que es tanto ortogonal como compuesta por vectores unitarios. \n",
        "Ejemplo:\n",
        "Matriz C:\n",
        "1/√2   1/√2\n",
        "-1/√2  1/√2\n",
        "\n",
        "Si calculamos la matriz traspuesta de C y la multiplicamos por C, deberíamos obtener la matriz identidad:\n",
        "\n",
        "C^T * C = [[1/√2, -1/√2], [1/√2, 1/√2]] * [[1/√2, 1/√2], [-1/√2, 1/√2]] = [[1, 0], [0, 1]]\n",
        "\n",
        "El resultado es la matriz identidad, lo cual cumple con las propiedades de ortogonalidad y ortonormalidad."
      ],
      "metadata": {
        "id": "rETsDpzFiR09"
      }
    },
    {
      "cell_type": "markdown",
      "source": [
        "SISTEMA DE ECUACIONES\n",
        "\n",
        "Consideremos el siguiente sistema de ecuaciones de primer grado con dos incógnitas, x e y:\n",
        "\n",
        "Ecuación 1: 2x + 3y = 8\n",
        "Ecuación 2: 4x - y = 7\n",
        "\n",
        "Para resolver este sistema, podemos utilizar diferentes métodos como el método de sustitución, el método de eliminación o la matriz inversa.\n",
        "\n",
        "Tomemos la primera ecuación y despejemos x en términos de y:\n",
        "\n",
        "2x = 8 - 3y\n",
        "x = (8 - 3y) / 2\n",
        "\n",
        "Sustituyamos este valor de x en la segunda ecuación:\n",
        "\n",
        "4((8 - 3y) / 2) - y = 7\n",
        "\n",
        "Simplificando la ecuación, obtenemos:\n",
        "\n",
        "(16 - 6y) - y = 7\n",
        "16 - 6y - y = 7\n",
        "16 - 7y = 7\n",
        "-7y = 7 - 16\n",
        "-7y = -9\n",
        "y = (-9) / (-7)\n",
        "y = 9/7\n",
        "\n",
        "Ahora que tenemos el valor de y, sustituyámoslo en la primera ecuación para encontrar el valor de x:\n",
        "\n",
        "2x + 3(9/7) = 8\n",
        "2x + 27/7 = 8\n",
        "2x = 8 - 27/7\n",
        "2x = (56 - 27) / 7\n",
        "2x = 29/7\n",
        "x = (29/7) / 2\n",
        "x = 29/14\n",
        "\n",
        "La solución del sistema de ecuaciones es x = 29/14 y y = 9/7.\n",
        "\n"
      ],
      "metadata": {
        "id": "p9sBHwa9jygi"
      }
    },
    {
      "cell_type": "code",
      "source": [
        "import numpy as np\n",
        "\n",
        "# Definir los coeficientes de las ecuaciones\n",
        "coeficientes = np.array([[2, 3],\n",
        "                        [4, -1]])\n",
        "\n",
        "# Definir los resultados de las ecuaciones\n",
        "resultados = np.array([8, 7])\n",
        "\n",
        "# Resolver el sistema de ecuaciones\n",
        "solucion = np.linalg.solve(coeficientes, resultados)\n",
        "\n",
        "# Imprimir la solución\n",
        "print(\"La solución del sistema de ecuaciones es:\")\n",
        "print(\"x =\", solucion[0])\n",
        "print(\"y =\", solucion[1])\n"
      ],
      "metadata": {
        "colab": {
          "base_uri": "https://localhost:8080/"
        },
        "id": "2hifqwgTniMu",
        "outputId": "bca8672c-6fe7-4407-cbba-387edc6f4d5e"
      },
      "execution_count": null,
      "outputs": [
        {
          "output_type": "stream",
          "name": "stdout",
          "text": [
            "La solución del sistema de ecuaciones es:\n",
            "x = 2.0714285714285716\n",
            "y = 1.2857142857142858\n"
          ]
        }
      ]
    },
    {
      "cell_type": "markdown",
      "source": [
        "SOLUCIÓN DE SISTEMAS DE ECUACIONES A TRAVÉS DEL MÉTODO DE CRAMER\n",
        "\n",
        "1. Escribir el sistema de ecuaciones en forma matricial: AX = B, donde A es la matriz de coeficientes, X es el vector de incógnitas y B es el vector de términos independientes.\n",
        "\n",
        "2. Calcular el determinante de la matriz de coeficientes A. Si el determinante es igual a cero, el sistema no tiene solución única.\n",
        "\n",
        "3. Para cada incógnita Xi, reemplazar la columna i de A con el vector de términos independientes B y calcular el determinante de la nueva matriz. Esto se llama el determinante de Cramer, denotado como Det(Ai).\n",
        "\n",
        "4. Calcular el valor de cada incógnita Xi utilizando la fórmula: Xi = Det(Ai) / Det(A), donde Det(A) es el determinante de la matriz de coeficientes original.\n",
        "\n",
        "Ejemplo:\n",
        "\n",
        "Consideremos el siguiente sistema de ecuaciones lineales con 2 incógnitas, x e y:\n",
        "\n",
        "Ecuación 1: 2x + 3y = 8\n",
        "Ecuación 2: 4x - y = 7\n",
        "\n",
        "Podemos escribir el sistema en forma matricial: AX = B, donde:\n",
        "\n",
        "A = [[2, 3],\n",
        "     [4, -1]]\n",
        "\n",
        "X = [[x],\n",
        "     [y]]\n",
        "\n",
        "B = [[8],\n",
        "     [7]]\n",
        "\n",
        "1. Calculamos el determinante de la matriz de coeficientes A:\n",
        "   Det(A) = (2 * -1) - (3 * 4) = -14\n",
        "\n",
        "2. Reemplazamos la primera columna de A con el vector de términos independientes B y calculamos el determinante:\n",
        "   Det(A1) = (8 * -1) - (7 * 4) = -36\n",
        "\n",
        "   Reemplazamos la segunda columna de A con B y calculamos el determinante:\n",
        "   Det(A2) = (2 * 7) - (3 * 8) = -10\n",
        "\n",
        "3. Calculamos el valor de cada incógnita:\n",
        "   x = Det(A1) / Det(A) = -36 / -14 ≈ 2.57\n",
        "   y = Det(A2) / Det(A) = -10 / -14 ≈ 0.71\n",
        "\n",
        "Por lo tanto, la solución del sistema de ecuaciones es x ≈ 2.57 y y ≈ 0.71.\n",
        "\n"
      ],
      "metadata": {
        "id": "I1_a9CmaoOcy"
      }
    },
    {
      "cell_type": "code",
      "source": [
        "import numpy as np\n",
        "\n",
        "def cramer_solver(coefficients, constants):\n",
        "    n = len(coefficients)\n",
        "    det_A = np.linalg.det(coefficients)\n",
        "    solutions = []\n",
        "\n",
        "    for i in range(n):\n",
        "        matrix = coefficients.copy()\n",
        "        matrix[:, i] = constants\n",
        "        det_Ai = np.linalg.det(matrix)\n",
        "        solution = det_Ai / det_A\n",
        "        solutions.append(solution)\n",
        "\n",
        "    return solutions\n",
        "\n",
        "# Definir los coeficientes de las ecuaciones\n",
        "coefficients = np.array([[2, 3],\n",
        "                         [4, -1]])\n",
        "\n",
        "# Definir los términos independientes\n",
        "constants = np.array([8, 7])\n",
        "\n",
        "# Resolver el sistema de ecuaciones con el método de Cramer\n",
        "solutions = cramer_solver(coefficients, constants)\n",
        "\n",
        "# Imprimir las soluciones\n",
        "print(\"La solución del sistema de ecuaciones es:\")\n",
        "print(\"x =\", solutions[0])\n",
        "print(\"y =\", solutions[1])\n"
      ],
      "metadata": {
        "colab": {
          "base_uri": "https://localhost:8080/"
        },
        "id": "ge8GZhn-pNdR",
        "outputId": "78b3006d-142c-4e9d-a480-d2dc5b223d28"
      },
      "execution_count": null,
      "outputs": [
        {
          "output_type": "stream",
          "name": "stdout",
          "text": [
            "La solución del sistema de ecuaciones es:\n",
            "x = 2.0714285714285703\n",
            "y = 1.2857142857142851\n"
          ]
        }
      ]
    },
    {
      "cell_type": "markdown",
      "source": [
        "FACTORIZACIÓN POR EL MÉTODO LU\n",
        "\n",
        "La factorización LU descompone una matriz cuadrada en el producto de una matriz triangular inferior (L) y una matriz triangular superior (U). Es útil para resolver sistemas de ecuaciones y calcular determinantes e inversas de matrices.\n",
        "\n",
        "Ejemplo:\n",
        "Consideremos la siguiente matriz A:\n",
        "\n",
        "A = [[2, 1, -1],\n",
        "     [-4, -2, 5],\n",
        "     [-2, 1, 3]]\n",
        "\n",
        "Aplicando la factorización LU, obtenemos:\n",
        "\n",
        "L = [[1, 0, 0],\n",
        "     [-2, 1, 0],\n",
        "     [-1, -3, 1]]\n",
        "\n",
        "U = [[2, 1, -1],\n",
        "     [0, -4, 3],\n",
        "     [0, 0, 1]]\n",
        "\n",
        "La matriz A se descompone en el producto LU, es decir, A = LU.\n",
        "\n",
        "Ahora, supongamos que tenemos el siguiente sistema de ecuaciones: \n",
        "\n",
        "2x + y - z = 8\n",
        "-4x - 2y + 5z = -3\n",
        "-2x + y + 3z = 5\n",
        "\n",
        "Podemos resolver este sistema utilizando la factorización LU:\n",
        "\n",
        "1. Resolver Ly = b, donde L es la matriz triangular inferior y b es el vector de términos independientes:\n",
        "\n",
        "1y = 8\n",
        "-2y + 1z = -3\n",
        "-1y - 3z = 5\n",
        "\n",
        "La solución es y = 8, z = 1 y = -3.\n",
        "\n",
        "2. Resolver Ux = y, donde U es la matriz triangular superior y y es el vector de soluciones obtenido en el paso anterior:\n",
        "\n",
        "2x + 1y - 1z = 8\n",
        "0x - 4y + 3z = -3\n",
        "0x + 0y + 1z = 1\n",
        "\n",
        "La solución es x = 2, y = -1 y z = 1.\n",
        "\n",
        "Por lo tanto, la solución del sistema de ecuaciones es x = 2, y = -1 y z = 1 utilizando la factorización LU.\n",
        "\n"
      ],
      "metadata": {
        "id": "u58PBqaNqzPV"
      }
    },
    {
      "cell_type": "code",
      "source": [
        "import numpy as np\n",
        "import sympy as sym\n",
        "import math\n",
        "#Ejercicio 1\n",
        "A = sym.Matrix ([[1,2,-3],[0,1,2],[-1,2,0]])\n",
        "B = sym.Matrix ([[-1,2,0],[0,1,2],[1,2,-3]])\n",
        "C = sym.Matrix ([[0,4,-3],[0,1,2],[-1,2,0]])\n",
        "#Literal a Hallar un E1 tal que, E1*A=b\n",
        "E1 = sym.Matrix ([[0,0,1],[0,1,0],[1,0,0]])\n",
        "r = np.dot(E1,A)\n",
        "print(r)\n",
        "#Literal b. Hallar un E2 tal que, E2*C=A\n",
        "E2 = sym.Matrix ([[1,0,-1],[0,1,0],[0,0,1]])\n",
        "q = np.dot(E2,C)\n",
        "print(q)\n",
        "#Literal c. Hallar un E3 tal que, E3*B=A\n",
        "E3= sym.Matrix ([[0,0,1],[0,1,0],[1,0,0]])\n",
        "t = np.dot(E3,B)\n",
        "print(t)"
      ],
      "metadata": {
        "colab": {
          "base_uri": "https://localhost:8080/"
        },
        "id": "qNxWfaT3rwK9",
        "outputId": "3ba8d9e4-5601-48b3-bd84-02d1c69820cc"
      },
      "execution_count": null,
      "outputs": [
        {
          "output_type": "stream",
          "name": "stdout",
          "text": [
            "[[-1 2 0]\n",
            " [0 1 2]\n",
            " [1 2 -3]]\n",
            "[[1 2 -3]\n",
            " [0 1 2]\n",
            " [-1 2 0]]\n",
            "[[1 2 -3]\n",
            " [0 1 2]\n",
            " [-1 2 0]]\n"
          ]
        }
      ]
    },
    {
      "cell_type": "code",
      "source": [
        "#Ejercicio 2 Reemplazamos los valores de nos diron como resultado para comprobar cuando:\n",
        "#a. EL sistema no posee solucion\n",
        "raiz = math.sqrt(3)\n",
        "D = sym.Matrix ([[raiz,raiz-3,4,0],[-1,raiz-1,raiz+1,0],[-2,-2,1,0]])\n",
        "D.rref(pivots=False)"
      ],
      "metadata": {
        "colab": {
          "base_uri": "https://localhost:8080/",
          "height": 78
        },
        "id": "Eq60JloGr9Dm",
        "outputId": "1218a442-d5a1-495b-9849-1ea909ace48f"
      },
      "execution_count": null,
      "outputs": [
        {
          "output_type": "execute_result",
          "data": {
            "text/plain": [
              "Matrix([\n",
              "[1, 0, 0, 0],\n",
              "[0, 1, 0, 0],\n",
              "[0, 0, 1, 0]])"
            ],
            "text/latex": "$\\displaystyle \\left[\\begin{matrix}1 & 0 & 0 & 0\\\\0 & 1 & 0 & 0\\\\0 & 0 & 1 & 0\\end{matrix}\\right]$"
          },
          "metadata": {},
          "execution_count": 8
        }
      ]
    },
    {
      "cell_type": "code",
      "source": [
        "#b. El sistema posee infinitas soluciones\n",
        "raiz2 = math.sqrt(46)\n",
        "print(raiz2)\n",
        "E = sym.Matrix ([[-7-raiz2 ,-10-raiz2,4,0],[-1,-8-raiz2,-raiz2-6,0],[-2,-2,1,0]])\n",
        "E.rref(pivots=False)"
      ],
      "metadata": {
        "colab": {
          "base_uri": "https://localhost:8080/",
          "height": 34
        },
        "id": "2JIC5N80sEbA",
        "outputId": "c615f832-f15b-4557-b9aa-28ca1109df02"
      },
      "execution_count": null,
      "outputs": [
        {
          "output_type": "stream",
          "name": "stdout",
          "text": [
            "6.782329983125268\n"
          ]
        },
        {
          "output_type": "execute_result",
          "data": {
            "text/plain": [
              "Matrix([\n",
              "[1, 0, 0, 0],\n",
              "[0, 1, 0, 0],\n",
              "[0, 0, 1, 0]])"
            ],
            "text/latex": "$\\displaystyle \\left[\\begin{matrix}1 & 0 & 0 & 0\\\\0 & 1 & 0 & 0\\\\0 & 0 & 1 & 0\\end{matrix}\\right]$"
          },
          "metadata": {},
          "execution_count": 9
        }
      ]
    },
    {
      "cell_type": "code",
      "source": [
        "#c. Existe una unica solucion\n",
        "F = sym.Matrix ([[1,-2,4,0],[-1,0,2,0],[-2,-2,1,0]])\n",
        "F.rref(pivots=False)"
      ],
      "metadata": {
        "colab": {
          "base_uri": "https://localhost:8080/",
          "height": 78
        },
        "id": "GXWpEvxjsNae",
        "outputId": "8f3fedc8-a950-4bfe-c203-7fe21c1178ac"
      },
      "execution_count": null,
      "outputs": [
        {
          "output_type": "execute_result",
          "data": {
            "text/plain": [
              "Matrix([\n",
              "[1, 0, 0, 0],\n",
              "[0, 1, 0, 0],\n",
              "[0, 0, 1, 0]])"
            ],
            "text/latex": "$\\displaystyle \\left[\\begin{matrix}1 & 0 & 0 & 0\\\\0 & 1 & 0 & 0\\\\0 & 0 & 1 & 0\\end{matrix}\\right]$"
          },
          "metadata": {},
          "execution_count": 10
        }
      ]
    },
    {
      "cell_type": "code",
      "source": [
        "#Ejercicio 3 Factorizacion LU\n",
        "#a.\n",
        "A1= sym.Matrix ([[1,0],[-2,1]])\n",
        "print(A1)\n",
        "L1 = sym.Matrix ([[1, 0],[-2, 1]])\n",
        "U1 = sym.Matrix ([[1, 0],[0, 1]])\n",
        "a = np.dot(L1,U1)\n",
        "print(a)"
      ],
      "metadata": {
        "colab": {
          "base_uri": "https://localhost:8080/"
        },
        "id": "IvUlvFVcsUr5",
        "outputId": "866cdbbb-224f-46f3-a23c-debfcf19a548"
      },
      "execution_count": null,
      "outputs": [
        {
          "output_type": "stream",
          "name": "stdout",
          "text": [
            "Matrix([[1, 0], [-2, 1]])\n",
            "[[1 0]\n",
            " [-2 1]]\n"
          ]
        }
      ]
    },
    {
      "cell_type": "code",
      "source": [
        "#b.\n",
        "B2 = sym.Matrix ([[2,0,0],[0,-3,1],[10,12,3]])\n",
        "print(B2)\n",
        "L2 = sym.Matrix ([[1,0,0],[0,1,0],[5,-4,1]])\n",
        "U2 = sym.Matrix ([[2,0,0],[0,-3,1],[0,0,7]])\n",
        "m = np.dot(L2,U2)\n",
        "print(m)"
      ],
      "metadata": {
        "colab": {
          "base_uri": "https://localhost:8080/"
        },
        "id": "vzOgfz5GscGE",
        "outputId": "ddee2742-bfe1-4963-cde7-ead5481f52c1"
      },
      "execution_count": null,
      "outputs": [
        {
          "output_type": "stream",
          "name": "stdout",
          "text": [
            "Matrix([[2, 0, 0], [0, -3, 1], [10, 12, 3]])\n",
            "[[2 0 0]\n",
            " [0 -3 1]\n",
            " [10 12 3]]\n"
          ]
        }
      ]
    },
    {
      "cell_type": "code",
      "source": [
        "#c.\n",
        "C2 = sym.Matrix ([[3,0,1],[6,1,1],[-3,1,0]])\n",
        "print(C2)\n",
        "L3 = sym.Matrix ([[1,0,0],[2,1,0],[-1,1,1]])\n",
        "U3 = sym.Matrix ([[3,0,1],[0,1,-1],[0,0,2]])\n",
        "e = np.dot(L3,U3)\n",
        "print(e)"
      ],
      "metadata": {
        "colab": {
          "base_uri": "https://localhost:8080/"
        },
        "id": "LE_Pn9J5sfEP",
        "outputId": "60ceafe1-3f61-45cd-a56f-b8aeaccc60c7"
      },
      "execution_count": null,
      "outputs": [
        {
          "output_type": "stream",
          "name": "stdout",
          "text": [
            "Matrix([[3, 0, 1], [6, 1, 1], [-3, 1, 0]])\n",
            "[[3 0 1]\n",
            " [6 1 1]\n",
            " [-3 1 0]]\n"
          ]
        }
      ]
    },
    {
      "cell_type": "code",
      "source": [
        "# 4 Resolver el sistema usando LU\n",
        "#a. EL sistema\n",
        "A3 = sym.Matrix ([[2,1,0],[0,1,-1],[-2,1,1]])\n",
        "print(A3)\n",
        "L4 = sym.Matrix ([[1,0,0],[0,1,0],[-1,2,1]])\n",
        "U4 = sym.Matrix ([[2,1,0],[0,1,-1],[0,0,3]])\n",
        "l = np.dot(L3,U3)\n",
        "print(l)\n",
        "#Creamos la segunda matriz para solucionar\n",
        "S1 = sym.Matrix ([[1,1,0,1],[0,1,0,2],[-1,2,1,-2]])\n",
        "print(S1)\n",
        "#Resolvemos el sistema\n",
        "# a=1, b=2, c=-5\n",
        "#Con estas nuevas reoslucion ampliamos con la matriz U4, para hallar la solucion al problema\n",
        "U4R = sym.Matrix ([[2,1,0,1],[0,1,-1,2],[0,0,3,-5]])\n",
        "#Al despejar las respuestas son\n",
        "z = -5/3\n",
        "y = 2-(5/3)\n",
        "x = (1-(1/3))/2\n",
        "print(\"La solución del sistema es:\")\n",
        "print(x)\n",
        "print(y)\n",
        "print(z)"
      ],
      "metadata": {
        "colab": {
          "base_uri": "https://localhost:8080/"
        },
        "id": "9DsSjVyhsjv5",
        "outputId": "32b4fe46-1ab7-4a40-fb23-f78fe2663a12"
      },
      "execution_count": null,
      "outputs": [
        {
          "output_type": "stream",
          "name": "stdout",
          "text": [
            "Matrix([[2, 1, 0], [0, 1, -1], [-2, 1, 1]])\n",
            "[[3 0 1]\n",
            " [6 1 1]\n",
            " [-3 1 0]]\n",
            "Matrix([[1, 1, 0, 1], [0, 1, 0, 2], [-1, 2, 1, -2]])\n",
            "La solución del sistema es:\n",
            "0.33333333333333337\n",
            "0.33333333333333326\n",
            "-1.6666666666666667\n"
          ]
        }
      ]
    },
    {
      "cell_type": "code",
      "source": [
        "# 4 Resolver el sistema usando LU\n",
        "#b. EL sistema\n",
        "B3 = sym.Matrix ([[2,0,2],[-2,1,-1],[6,2,1]])\n",
        "print(B3)\n",
        "L5 = sym.Matrix ([[1,0,0],[-1,1,0],[3,2,1]])\n",
        "U5 = sym.Matrix ([[2,0,2],[0,1,1],[0,0,7]])\n",
        "ia = np.dot(L5,U5)\n",
        "print(ia)\n",
        "#Creamos la segunda matriz para solucionar\n",
        "S2 = sym.Matrix ([[1,0,0,4],[-1,1,0,-4],[3,2,1,20]])\n",
        "print(S2)\n",
        "#Resolvemos el sistema\n",
        "# a=4, b=0, c=8\n",
        "#Con estas nuevas reoslucion ampliamos con la matriz U4, para hallar la solucion al problema\n",
        "U5R = sym.Matrix ([[2,0,2,4],[0,1,1,0],[0,0,-7,8]])\n",
        "#Al despejar las respuestas son\n",
        "z2 = -(8/7)\n",
        "y2 = -z2\n",
        "x2 = ((16/7)+4) * (1/2)\n",
        "print(\"La solución del sistema es:\")\n",
        "print(x2)\n",
        "print(y2)\n",
        "print(z2)"
      ],
      "metadata": {
        "colab": {
          "base_uri": "https://localhost:8080/"
        },
        "id": "B60s_q10svFZ",
        "outputId": "c50a33d9-7af1-4285-a1b6-9c20034613fb"
      },
      "execution_count": null,
      "outputs": [
        {
          "output_type": "stream",
          "name": "stdout",
          "text": [
            "Matrix([[2, 0, 2], [-2, 1, -1], [6, 2, 1]])\n",
            "[[2 0 2]\n",
            " [-2 1 -1]\n",
            " [6 2 15]]\n",
            "Matrix([[1, 0, 0, 4], [-1, 1, 0, -4], [3, 2, 1, 20]])\n",
            "La solución del sistema es:\n",
            "3.142857142857143\n",
            "1.1428571428571428\n",
            "-1.1428571428571428\n"
          ]
        }
      ]
    },
    {
      "cell_type": "markdown",
      "source": [
        "MATRIZ ELEMENTAL\n",
        "\n",
        "es una matriz cuadrada que se obtiene al realizar una única operación elemental de fila en una matriz de identidad.\n",
        "\n",
        "Ejemplo:\n",
        "Consideremos la siguiente matriz de identidad 3x3:\n",
        "\n",
        "I = [[1, 0, 0],\n",
        "     [0, 1, 0],\n",
        "     [0, 0, 1]]\n",
        "\n",
        "Aplicaremos una operación elemental de fila para intercambiar la primera y la segunda fila. La matriz elemental correspondiente a esta operación es:\n",
        "\n",
        "E = [[0, 1, 0],\n",
        "     [1, 0, 0],\n",
        "     [0, 0, 1]]\n",
        "\n",
        "Al multiplicar la matriz E con la matriz I, obtenemos la matriz transformada:\n",
        "\n",
        "E * I = [[0, 1, 0],\n",
        "         [1, 0, 0],\n",
        "         [0, 0, 1]]\n",
        "\n",
        "La matriz transformada intercambia la primera y la segunda fila de la matriz original de identidad.\n"
      ],
      "metadata": {
        "id": "P_meqq3ctY7K"
      }
    },
    {
      "cell_type": "code",
      "source": [
        "import numpy as np\n",
        "\n",
        "def apply_elementary_matrix(matrix, elementary_matrix):\n",
        "    transformed_matrix = elementary_matrix.dot(matrix)\n",
        "    return transformed_matrix\n",
        "\n",
        "# Matriz original\n",
        "matrix = np.array([[1, 2, 3],\n",
        "                   [4, 5, 6],\n",
        "                   [7, 8, 9]])\n",
        "\n",
        "# Matriz elemental (intercambio de filas 1 y 2)\n",
        "elementary_matrix = np.array([[0, 1, 0],\n",
        "                              [1, 0, 0],\n",
        "                              [0, 0, 1]])\n",
        "\n",
        "# Aplicar la matriz elemental a la matriz original\n",
        "transformed_matrix = apply_elementary_matrix(matrix, elementary_matrix)\n",
        "\n",
        "# Imprimir la matriz transformada\n",
        "print(\"Matriz original:\\n\", matrix)\n",
        "print(\"\\nMatriz transformada:\\n\", transformed_matrix)\n"
      ],
      "metadata": {
        "colab": {
          "base_uri": "https://localhost:8080/"
        },
        "id": "VMMG8A7-tq8Q",
        "outputId": "b9bb8a34-07bc-446c-ddd3-16d2b580c2a5"
      },
      "execution_count": null,
      "outputs": [
        {
          "output_type": "stream",
          "name": "stdout",
          "text": [
            "Matriz original:\n",
            " [[1 2 3]\n",
            " [4 5 6]\n",
            " [7 8 9]]\n",
            "\n",
            "Matriz transformada:\n",
            " [[4 5 6]\n",
            " [1 2 3]\n",
            " [7 8 9]]\n"
          ]
        }
      ]
    }
  ]
}