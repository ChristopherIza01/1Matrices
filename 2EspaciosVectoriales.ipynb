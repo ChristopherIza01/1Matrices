{
  "nbformat": 4,
  "nbformat_minor": 0,
  "metadata": {
    "colab": {
      "provenance": [],
      "authorship_tag": "ABX9TyMSW8OHKJ1tn6B8vFM0mbn/",
      "include_colab_link": true
    },
    "kernelspec": {
      "name": "python3",
      "display_name": "Python 3"
    },
    "language_info": {
      "name": "python"
    }
  },
  "cells": [
    {
      "cell_type": "markdown",
      "metadata": {
        "id": "view-in-github",
        "colab_type": "text"
      },
      "source": [
        "<a href=\"https://colab.research.google.com/github/ChristopherIza01/1Matrices/blob/main/2EspaciosVectoriales.ipynb\" target=\"_parent\"><img src=\"https://colab.research.google.com/assets/colab-badge.svg\" alt=\"Open In Colab\"/></a>"
      ]
    },
    {
      "cell_type": "markdown",
      "source": [
        "SUBESPACIOS VECTORIALES\n",
        "\n",
        "2. Subespacios vectoriales\n",
        "Dado un espacio vectorial V , decimos que un subconjunto no vacIo U ⊆ V , es un subespacio vectorial de V cuando al restringir las operaciones de suma y multiplicacion por\n",
        "escalares para V a U, este es un espacio vectorial. Formalmente, lo que estamos diciendo\n",
        "es que:\n",
        "1. Para cualesquiera u, v ∈ U, se verifica que u + v ∈ U\n",
        "2. Para cualesquiera λ ∈ K, u ∈ U se verifica que λ · u ∈ U\n",
        "Observar que la segunda condicion anterior implica que el vector cero de V esta tambiEn\n",
        "en U, ya que si u ∈ U, entonces 0 · u =\n",
        "−→0 ∈ U.\n",
        "Propiedad 5. U es un subespacio vectorial de V si y solo si ∀u, v ∈ U y ∀λ, µ ∈ K se\n",
        "verifica que λu + µv ∈ U.\n",
        "3\n",
        "Todo espacio vectorial V tiene siempre los subespacios vectoriales V y {\n",
        "−→0 }, los cuales\n",
        "se denominan los subespacios vectoriales triviales de V . Un subespacio de V se dice\n",
        "propio si no es ninguno de los subespacios triviales.\n",
        "Ejemplo 6. Comprobamos que el subconjunto U = {(x, y, z) ∈ R\n",
        "3\n",
        "| 2x − y + 5z = 0} es\n",
        "un subespacio vectorial de R\n",
        "3\n",
        ".\n",
        "En primer lugar observamos que U es no vacIo ya que (0, 0, 0) ∈ U. Si u = (x1, y1, z1), v =\n",
        "(x2, y2, z2) ∈ U, y λ, µ ∈ R, entonces λu + µv = (λx1 + µx2, λy1 + µy2, λz1 + µz2), el cual\n",
        "pertenece de nuevo a U, ya que\n",
        "2(λx1 +µx2)−(λy1 +µy2)+5(λz1 +µz2) = λ(2x1−y1 +5z1)+µ(2x2−y2 +5z2) = 0+0 = 0\n",
        "Mas generalmente, se puede comprobar que todo sistema homogeneo de ecuaciones lineales en n incognitas y con coeficientes en K, determina un subespacio vectorial de Kn\n",
        ".\n"
      ],
      "metadata": {
        "id": "7ZiicafWzfJ5"
      }
    },
    {
      "cell_type": "code",
      "execution_count": null,
      "metadata": {
        "colab": {
          "base_uri": "https://localhost:8080/"
        },
        "id": "icvZgg_wzb4T",
        "outputId": "b174ccf0-32a3-4578-d2e6-282ff0143e23"
      },
      "outputs": [
        {
          "output_type": "stream",
          "name": "stdout",
          "text": [
            "¿El conjunto 1 forma un subespacio vectorial? False\n",
            "¿El conjunto 2 forma un subespacio vectorial? False\n"
          ]
        }
      ],
      "source": [
        "import numpy as np\n",
        "\n",
        "def is_subspace(vectors):\n",
        "    # Convertir la lista de vectores en una matriz\n",
        "    matrix = np.array(vectors)\n",
        "\n",
        "    # Verificar la cerradura bajo la suma\n",
        "    if np.all(np.sum(matrix, axis=0) == 0):\n",
        "        # Verificar la cerradura bajo la multiplicación por un escalar\n",
        "        if np.all(np.multiply(matrix, 2) == -matrix):\n",
        "            return True\n",
        "\n",
        "    return False\n",
        "\n",
        "# Ejemplo 1: Conjunto de vectores que forman un subespacio vectorial\n",
        "vectors1 = [[1, 2, -1], [-3, 0, 2], [2, -2, 1]]\n",
        "print(\"¿El conjunto 1 forma un subespacio vectorial?\", is_subspace(vectors1))\n",
        "\n",
        "# Ejemplo 2: Conjunto de vectores que no forman un subespacio vectorial\n",
        "vectors2 = [[1, 2, -1], [-3, 0, 2], [2, -2, 0]]\n",
        "print(\"¿El conjunto 2 forma un subespacio vectorial?\", is_subspace(vectors2))\n"
      ]
    },
    {
      "cell_type": "code",
      "source": [
        "import numpy as np\n",
        "\n",
        "def is_subspace(vectors):\n",
        "    # Convertir la lista de vectores en una matriz\n",
        "    matrix = np.array(vectors)\n",
        "\n",
        "    # Verificar la cerradura bajo la suma\n",
        "    sum_vector = np.sum(matrix, axis=0)\n",
        "    if np.all(sum_vector == np.zeros_like(sum_vector)):\n",
        "        # Verificar la cerradura bajo la multiplicación por un escalar\n",
        "        scalar = 2\n",
        "        scalar_multiplication = scalar * matrix\n",
        "        if np.all(scalar_multiplication == np.zeros_like(scalar_multiplication)):\n",
        "            return True\n",
        "\n",
        "    return False\n",
        "\n",
        "# Ejemplo: Conjunto de vectores que forman un subespacio vectorial\n",
        "vectors = [[1, 2, -1], [-3, 0, 2], [2, -4, 2]]\n",
        "print(\"¿El conjunto forma un subespacio vectorial?\", is_subspace(vectors))\n"
      ],
      "metadata": {
        "colab": {
          "base_uri": "https://localhost:8080/"
        },
        "id": "k7Wzjden1_aP",
        "outputId": "e1e757f3-1adc-482d-bd70-81ab7a834493"
      },
      "execution_count": null,
      "outputs": [
        {
          "output_type": "stream",
          "name": "stdout",
          "text": [
            "¿El conjunto forma un subespacio vectorial? False\n"
          ]
        }
      ]
    },
    {
      "cell_type": "markdown",
      "source": [
        "CONJUNTOS LINEALMENTE DEPENDIENTES E INDEPENDIENTES\n",
        "\n",
        "\n",
        "Ejemplo:\n",
        "\n",
        "Consideremos el conjunto de vectores V = {[1, 2], [3, 4], [5, 6]} en R².\n",
        "\n",
        "1. Linealmente Dependiente:\n",
        "Si expresamos el primer vector [1, 2] como combinación lineal de los otros dos vectores, podemos obtener:\n",
        "\n",
        "[1, 2] = 2 * [3, 4] - [5, 6]\n",
        "\n",
        "Esto muestra que el vector [1, 2] puede ser expresado como combinación lineal de los vectores [3, 4] y [5, 6]. Por lo tanto, el conjunto V es linealmente dependiente.\n",
        "\n",
        "2. Linealmente Independiente:\n",
        "Si intentamos expresar cualquier vector del conjunto [3, 4] o [5, 6] como combinación lineal de los otros dos, no es posible encontrar una combinación de escalares que cumpla esa igualdad. Por lo tanto, los vectores [3, 4] y [5, 6] no pueden ser expresados como combinación lineal de los otros vectores. Esto indica que el conjunto V es linealmente independiente.\n",
        "\n"
      ],
      "metadata": {
        "id": "Lt5yg9tS2fH5"
      }
    },
    {
      "cell_type": "code",
      "source": [
        "import numpy as np\n",
        "\n",
        "def is_linearly_dependent(vectors):\n",
        "    # Convertir los vectores en una matriz\n",
        "    matrix = np.array(vectors)\n",
        "\n",
        "    # Verificar si la matriz tiene rango completo\n",
        "    rank = np.linalg.matrix_rank(matrix)\n",
        "    if rank < len(vectors):\n",
        "        return True\n",
        "\n",
        "    return False\n",
        "\n",
        "# Ejemplo de conjunto linealmente dependiente\n",
        "vectors_dependent = [[1, 2, 3], [2, 4, 6], [3, 6, 9]]\n",
        "print(\"¿El conjunto es linealmente dependiente?\", is_linearly_dependent(vectors_dependent))\n",
        "\n",
        "# Ejemplo de conjunto linealmente independiente\n",
        "vectors_independent = [[1, 0, 0], [0, 1, 0], [0, 0, 1]]\n",
        "print(\"¿El conjunto es linealmente independiente?\", is_linearly_dependent(vectors_independent))\n"
      ],
      "metadata": {
        "colab": {
          "base_uri": "https://localhost:8080/"
        },
        "id": "wCdUnlZ93AhY",
        "outputId": "676ca2f8-d44c-49d5-a6b6-f95a14bcc0d1"
      },
      "execution_count": null,
      "outputs": [
        {
          "output_type": "stream",
          "name": "stdout",
          "text": [
            "¿El conjunto es linealmente dependiente? True\n",
            "¿El conjunto es linealmente independiente? False\n"
          ]
        }
      ]
    },
    {
      "cell_type": "markdown",
      "source": [
        "BASE Y DIMENSIÓN \n",
        "\n",
        "Ejercicio:\n",
        "Consideremos el siguiente sistema de ecuaciones lineales:\n",
        "\n",
        "\n",
        "2x + y - z = 0\n",
        "x - y + 3z = 0\n",
        "3x + 2y + 5z = 0\n",
        "Para determinar la dimensión y una base del espacio generado por este sistema de ecuaciones, podemos encontrar las soluciones del sistema y observar el número de variables libres.\n",
        "\n",
        "Solución:\n",
        "Primero, escribimos el sistema de ecuaciones en forma matricial: AX = 0, donde A es la matriz de coeficientes y X es el vector de incógnitas.\n",
        "\n",
        "A = [[2, 1, -1],\n",
        "     [1, -1, 3],\n",
        "     [3, 2, 5]]\n",
        "\n",
        "X = [[x],\n",
        "     [y],\n",
        "     [z]]\n",
        "\n",
        "0 = [[0],\n",
        "     [0],\n",
        "     [0]]\n",
        "Usando eliminación gaussiana o métodos similares, reducimos la matriz aumentada [A | 0] a su forma escalonada reducida. Al hacerlo, encontramos que la última columna es una columna pivote, lo que indica que hay una variable libre.\n",
        "\n",
        "\n",
        "R = [[1, 0, 1],\n",
        "     [0, 1, -1],\n",
        "     [0, 0, 0]]\n",
        "La tercera columna corresponde a la variable z, que es una variable libre. Por lo tanto, la dimensión del espacio generado por este sistema de ecuaciones es 2 (el número de variables que no son libres).\n",
        "\n",
        "Para encontrar una base del espacio generado, asignamos una variable libre a 1 y las variables no libres a 0. Esto nos dará los vectores que formarán la base.\n",
        "\n",
        "Tomando z = 1, obtenemos:\n",
        "\n",
        "\n",
        "x = -1\n",
        "y = 1\n",
        "El vector correspondiente es [-1, 1, 1].\n",
        "\n",
        "Tomando z = 0, obtenemos:\n",
        "\n",
        "x = 1\n",
        "y = -1\n",
        "El vector correspondiente es [1, -1, 0].\n",
        "\n",
        "Por lo tanto, una base del espacio generado por el sistema de ecuaciones es {[1, -1, 0], [-1, 1, 1]}.\n",
        "\n",
        "En resumen, la dimensión del espacio generado por el sistema de ecuaciones es 2, y una base correspondiente es {[1, -1, 0], [-1, 1, 1]}."
      ],
      "metadata": {
        "id": "aJQWLyrC4m4F"
      }
    },
    {
      "cell_type": "code",
      "source": [
        "import numpy as np\n",
        "\n",
        "def find_dimension_and_base(coefficients):\n",
        "    A = np.array(coefficients)\n",
        "    _, _, V = np.linalg.svd(A)\n",
        "    null_space = V[-1, :]\n",
        "    dimension = len(null_space) - np.count_nonzero(null_space)\n",
        "    base = []\n",
        "    for i in range(dimension):\n",
        "        vector = np.random.randint(-10, 10, size=len(null_space))\n",
        "        while np.dot(vector, null_space) != 0:\n",
        "            vector = np.random.randint(-10, 10, size=len(null_space))\n",
        "        base.append(vector.tolist())\n",
        "    \n",
        "    return dimension, base\n",
        "\n",
        "# Ejercicio de dimensión y base\n",
        "coefficients = [[2, 1, -1], [1, -1, 3], [3, 2, 5]]\n",
        "dimension, base = find_dimension_and_base(coefficients)\n",
        "\n",
        "print(\"Dimensión del espacio generado:\", dimension)\n",
        "print(\"Base del espacio generado:\", base)\n"
      ],
      "metadata": {
        "colab": {
          "base_uri": "https://localhost:8080/"
        },
        "id": "EjcxnEW95HUK",
        "outputId": "5c417fc0-5181-4130-f6d8-071e6fd1c66f"
      },
      "execution_count": null,
      "outputs": [
        {
          "output_type": "stream",
          "name": "stdout",
          "text": [
            "Dimensión del espacio generado: 0\n",
            "Base del espacio generado: []\n"
          ]
        }
      ]
    },
    {
      "cell_type": "markdown",
      "source": [
        "VECTORES ORTOGONALES\n",
        "\n",
        "- Dos vectores son ortogonales si su producto escalar es cero.\n",
        "- En un espacio vectorial, un conjunto de vectores es ortogonal si todos los pares de vectores en el conjunto son ortogonales entre sí.\n",
        "- Un conjunto de vectores ortogonales es linealmente independiente.\n",
        "\n",
        "Ejercicio:\n",
        "Consideremos los siguientes vectores en R³:\n",
        "\n",
        "v₁ = [1, 0, -1]\n",
        "v₂ = [2, -3, 4]\n",
        "v₃ = [0, 1, 1]\n",
        "\n",
        "Para determinar si estos vectores son ortogonales, podemos calcular su producto escalar.\n",
        "\n",
        "El producto escalar entre dos vectores u y v se calcula sumando el producto de sus componentes correspondientes:\n",
        "\n",
        "u · v = u₁ * v₁ + u₂ * v₂ + u₃ * v₃\n",
        "\n",
        "Calculamos el producto escalar entre todos los pares de vectores:\n",
        "\n",
        "v₁ · v₂ = 1 * 2 + 0 * (-3) + (-1) * 4 = 2 + 0 - 4 = -2\n",
        "v₁ · v₃ = 1 * 0 + 0 * 1 + (-1) * 1 = 0 + 0 - 1 = -1\n",
        "v₂ · v₃ = 2 * 0 + (-3) * 1 + 4 * 1 = 0 - 3 + 4 = 1\n",
        "\n",
        "Los resultados muestran que el producto escalar entre los vectores v₁ y v₂ es -2, entre v₁ y v₃ es -1, y entre v₂ y v₃ es 1. Ninguno de los productos escalares es igual a cero. Por lo tanto, concluimos que los vectores v₁, v₂ y v₃ no son ortogonales entre sí."
      ],
      "metadata": {
        "id": "_91l6eLp6FVZ"
      }
    },
    {
      "cell_type": "code",
      "source": [
        "import numpy as np\n",
        "\n",
        "def check_orthogonal(vectors):\n",
        "    n = len(vectors)\n",
        "    for i in range(n):\n",
        "        for j in range(i+1, n):\n",
        "            if np.dot(vectors[i], vectors[j]) != 0:\n",
        "                return False\n",
        "    return True\n",
        "\n",
        "# Ejercicio de vectores ortogonales\n",
        "vectors = np.array([[1, 0, -1], [2, -3, 4], [0, 1, 1]])\n",
        "\n",
        "if check_orthogonal(vectors):\n",
        "    print(\"Los vectores son ortogonales entre sí.\")\n",
        "else:\n",
        "    print(\"Los vectores no son ortogonales entre sí.\")\n"
      ],
      "metadata": {
        "colab": {
          "base_uri": "https://localhost:8080/"
        },
        "id": "5iirE6iT6ZHn",
        "outputId": "cb03c925-3cb5-4429-8c10-90b216d1fa42"
      },
      "execution_count": null,
      "outputs": [
        {
          "output_type": "stream",
          "name": "stdout",
          "text": [
            "Los vectores no son ortogonales entre sí.\n"
          ]
        }
      ]
    },
    {
      "cell_type": "code",
      "source": [
        "import numpy as np\n",
        "\n",
        "def check_orthogonal(vectors):\n",
        "    n = len(vectors)\n",
        "    for i in range(n):\n",
        "        for j in range(i+1, n):\n",
        "            if np.dot(vectors[i], vectors[j]) != 0:\n",
        "                return False\n",
        "    return True\n",
        "\n",
        "# Ejemplo de vectores ortogonales\n",
        "vectors = np.array([[1, 0, 0], [0, 1, 0], [0, 0, 1]])\n",
        "\n",
        "if check_orthogonal(vectors):\n",
        "    print(\"Los vectores son ortogonales entre sí.\")\n",
        "else:\n",
        "    print(\"Los vectores no son ortogonales entre sí.\")\n"
      ],
      "metadata": {
        "colab": {
          "base_uri": "https://localhost:8080/"
        },
        "id": "AKR-dZkM6myH",
        "outputId": "e169a9f4-6aa0-4f88-febb-72293e9b4c5a"
      },
      "execution_count": null,
      "outputs": [
        {
          "output_type": "stream",
          "name": "stdout",
          "text": [
            "Los vectores son ortogonales entre sí.\n"
          ]
        }
      ]
    },
    {
      "cell_type": "markdown",
      "source": [
        "VECTORES ORTONORMALES\n",
        "\n",
        "Ejercicio:\n",
        "\n",
        "Encuentra un conjunto de tres vectores ortonormales en R³.\n",
        "\n",
        "Solución:\n",
        "\n",
        "Para construir un conjunto de vectores ortonormales, podemos tomar tres vectores linealmente independientes y normalizarlos dividiéndolos por su longitud.\n",
        "\n",
        "Tomemos los siguientes vectores:\n",
        "\n",
        "v₁ = [1, 1, 0]\n",
        "v₂ = [-1, 1, 0]\n",
        "v₃ = [0, 0, 1]\n",
        "\n",
        "Primero, verifiquemos si los vectores son linealmente independientes. Podemos hacerlo calculando su determinante:\n",
        "\n",
        "| 1  1  0 |\n",
        "|-1  1  0 | = 2 ≠ 0\n",
        "| 0  0  1 |\n",
        "\n",
        "El determinante es distinto de cero, lo que indica que los vectores son linealmente independientes.\n",
        "\n",
        "A continuación, normalizaremos los vectores dividiéndolos por su longitud:\n",
        "\n",
        "v₁' = v₁ / ||v₁|| = [1/√2, 1/√2, 0]\n",
        "v₂' = v₂ / ||v₂|| = [-1/√2, 1/√2, 0]\n",
        "v₃' = v₃ / ||v₃|| = [0, 0, 1]\n",
        "\n",
        "Finalmente, comprobemos que los vectores resultantes son ortogonales entre sí:\n",
        "\n",
        "v₁' · v₂' = (1/√2)(-1/√2) + (1/√2)(1/√2) + 0 = 0\n",
        "v₁' · v₃' = (1/√2)(0) + (1/√2)(0) + 0 = 0\n",
        "v₂' · v₃' = (-1/√2)(0) + (1/√2)(0) + 0 = 0\n",
        "\n",
        "Todos los productos escalares son cero, lo que indica que los vectores son ortogonales entre sí.\n",
        "\n",
        "Por lo tanto, el conjunto de vectores ortonormales en R³ es:\n",
        "\n",
        "v₁' = [1/√2, 1/√2, 0]\n",
        "v₂' = [-1/√2, 1/√2, 0]\n",
        "v₃' = [0, 0, 1]\n",
        "\n",
        "Estos vectores forman una base ortonormal en R³."
      ],
      "metadata": {
        "id": "UJb4OicB7QzG"
      }
    },
    {
      "cell_type": "code",
      "source": [
        "import numpy as np\n",
        "\n",
        "# Ejercicio de resolución de vectores orthonormales\n",
        "v1 = np.array([1, 0, -1])\n",
        "v2 = np.array([0, 1, 1])\n",
        "v3 = np.array([-1, 2, -1])\n",
        "\n",
        "# Paso 1: Ortogonalización\n",
        "u1 = v1\n",
        "u2 = v2 - (np.dot(v2, u1) / np.dot(u1, u1)) * u1\n",
        "u3 = v3 - (np.dot(v3, u1) / np.dot(u1, u1)) * u1 - (np.dot(v3, u2) / np.dot(u2, u2)) * u2\n",
        "\n",
        "# Paso 2: Normalización\n",
        "v1_ortho = u1 / np.linalg.norm(u1)\n",
        "v2_ortho = u2 / np.linalg.norm(u2)\n",
        "v3_ortho = u3 / np.linalg.norm(u3)\n",
        "\n",
        "print(\"Vectores Ortonormales:\")\n",
        "print(v1_ortho)\n",
        "print(v2_ortho)\n",
        "print(v3_ortho)\n",
        "\n"
      ],
      "metadata": {
        "colab": {
          "base_uri": "https://localhost:8080/"
        },
        "id": "7zruQOPV7YGZ",
        "outputId": "1aa58be9-700c-40f5-d797-d8dc2559f95a"
      },
      "execution_count": null,
      "outputs": [
        {
          "output_type": "stream",
          "name": "stdout",
          "text": [
            "Vectores Ortonormales:\n",
            "[ 0.70710678  0.         -0.70710678]\n",
            "[0.40824829 0.81649658 0.40824829]\n",
            "[-0.57735027  0.57735027 -0.57735027]\n"
          ]
        }
      ]
    },
    {
      "cell_type": "code",
      "source": [
        "import numpy as np\n",
        "\n",
        "# Ejercicio de resolución de vectores orthonormales\n",
        "v1 = np.array([1, -1])\n",
        "v2 = np.array([3, 2])\n",
        "\n",
        "# Paso 1: Ortogonalización\n",
        "u1 = v1\n",
        "u2 = v2 - (np.dot(v2, u1) / np.dot(u1, u1)) * u1\n",
        "\n",
        "# Paso 2: Normalización\n",
        "v1_ortho = u1 / np.linalg.norm(u1)\n",
        "v2_ortho = u2 / np.linalg.norm(u2)\n",
        "\n",
        "print(\"Vectores Ortonormales:\")\n",
        "print(v1_ortho)\n",
        "print(v2_ortho)\n"
      ],
      "metadata": {
        "colab": {
          "base_uri": "https://localhost:8080/"
        },
        "id": "JPXWn3ZH8VyH",
        "outputId": "3c01f2ac-0df6-4ead-8773-854dc50316c9"
      },
      "execution_count": null,
      "outputs": [
        {
          "output_type": "stream",
          "name": "stdout",
          "text": [
            "Vectores Ortonormales:\n",
            "[ 0.70710678 -0.70710678]\n",
            "[0.70710678 0.70710678]\n"
          ]
        }
      ]
    },
    {
      "cell_type": "markdown",
      "source": [
        "PROCESO DE ORTOGONALIZACIÓN POR EL MÉTODO GRAM-SCHMIDT\n",
        "\n",
        "Supongamos que tenemos los siguientes vectores en ℝ³:\n",
        "\n",
        "v₁ = (1, 1, 0)\n",
        "v₂ = (1, 0, 1)\n",
        "v₃ = (0, 1, 1)\n",
        "\n",
        "\n",
        "Paso 1: Normalización del primer vector\n",
        "El primer vector v₁ ya está normalizado, por lo que no es necesario realizar ningún cálculo adicional.\n",
        "\n",
        "Paso 2: Proyección y ortogonalización del segundo vector\n",
        "Calculamos la proyección de v₂ sobre v₁ utilizando la siguiente fórmula:\n",
        "projₓᵥᵢ = (⟨vᵢ, x⟩ / ⟨x, x⟩) * x\n",
        "\n",
        "Para encontrar el vector ortogonalizado u₂, restamos la proyección al vector original:\n",
        "u₂ = v₂ - projₓᵥ₂\n",
        "\n",
        "Calculamos los productos internos necesarios:\n",
        "⟨v₁, v₂⟩ = (1 * 1) + (1 * 0) + (0 * 1) = 1\n",
        "⟨v₁, v₁⟩ = (1 * 1) + (1 * 1) + (0 * 0) = 2\n",
        "\n",
        "Calculamos la proyección:\n",
        "projᵥ₁ᵥ₂ = (⟨v₁, v₂⟩ / ⟨v₁, v₁⟩) * v₁ = (1 / 2) * (1, 1, 0) = (0.5, 0.5, 0)\n",
        "\n",
        "Calculamos el vector ortogonalizado:\n",
        "u₂ = v₂ - projᵥ₁ᵥ₂ = (1, 0, 1) - (0.5, 0.5, 0) = (0.5, -0.5, 1)\n",
        "\n",
        "Paso 3: Proyección y ortogonalización del tercer vector\n",
        "Calculamos las proyecciones de v₃ sobre v₁ y v₂:\n",
        "projᵥ₁ᵥ₃ = (⟨v₁, v₃⟩ / ⟨v₁, v₁⟩) * v₁ = (1 / 2) * (1, 1, 0) = (0.5, 0.5, 0)\n",
        "projᵥ₂ᵥ₃ = (⟨v₂, v₃⟩ / ⟨v₂, v₂⟩) * v₂ = (1 / 2) * (0.5, -0.5, 1) = (0.25, -0.25, 0.5)\n",
        "\n",
        "Calculamos el vector ortogonalizado:\n",
        "u₃ = v₃ - projᵥ₁ᵥ₃ - projᵥ₂ᵥ₃ = (0, 1, 1) - (0.5, 0.5, 0) - (0.25, -0.25, 0.5) = (-0.75, 0.75, 0.5)\n",
        "\n",
        "Ahora tenemos los vectores ortogonalizados:\n",
        "u₁ = (1, 1, 0)\n",
        "u₂ = (0.)"
      ],
      "metadata": {
        "id": "JZtFcSSJZ3TK"
      }
    },
    {
      "cell_type": "code",
      "source": [],
      "metadata": {
        "id": "XyCMj2BudgyT"
      },
      "execution_count": null,
      "outputs": []
    }
  ]
}